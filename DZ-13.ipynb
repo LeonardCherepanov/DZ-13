{
 "cells": [
  {
   "cell_type": "code",
   "execution_count": 52,
   "metadata": {
    "scrolled": true
   },
   "outputs": [
    {
     "data": {
      "text/html": [
       "<div>\n",
       "<style scoped>\n",
       "    .dataframe tbody tr th:only-of-type {\n",
       "        vertical-align: middle;\n",
       "    }\n",
       "\n",
       "    .dataframe tbody tr th {\n",
       "        vertical-align: top;\n",
       "    }\n",
       "\n",
       "    .dataframe thead th {\n",
       "        text-align: right;\n",
       "    }\n",
       "</style>\n",
       "<table border=\"1\" class=\"dataframe\">\n",
       "  <thead>\n",
       "    <tr style=\"text-align: right;\">\n",
       "      <th></th>\n",
       "      <th>date</th>\n",
       "      <th>title</th>\n",
       "      <th>text</th>\n",
       "    </tr>\n",
       "  </thead>\n",
       "  <tbody>\n",
       "    <tr>\n",
       "      <th>0</th>\n",
       "      <td>сегодня в 21:35</td>\n",
       "      <td>Обзор Uniel S-CT1-1,5U</td>\n",
       "      <td>А то много хвалебных отзывов - \"получил, ни вс...</td>\n",
       "    </tr>\n",
       "  </tbody>\n",
       "</table>\n",
       "</div>"
      ],
      "text/plain": [
       "              date                   title  \\\n",
       "0  сегодня в 21:35  Обзор Uniel S-CT1-1,5U   \n",
       "\n",
       "                                                text  \n",
       "0  А то много хвалебных отзывов - \"получил, ни вс...  "
      ]
     },
     "execution_count": 52,
     "metadata": {},
     "output_type": "execute_result"
    }
   ],
   "source": [
    "import requests\n",
    "import pandas as pd\n",
    "from bs4 import BeautifulSoup\n",
    "\n",
    "KEYWORDS = ['python', 'парсинг','отзыв']\n",
    "df_list = []\n",
    "URL = 'https://habr.com/ru/all/'\n",
    "res = requests.get(URL)\n",
    "soup = BeautifulSoup(res.text, 'html.parser')\n",
    "posts = soup.find_all('article', class_='post')\n",
    "posts\n",
    "for post in posts:\n",
    "    post_list = []\n",
    "    post_time = post.find('span', class_='post__time')\n",
    "    post_list.append(post_time.text)\n",
    "    post_title = post.find('a', class_='post__title_link')\n",
    "    post_list.append(post_title.text)\n",
    "    post_txt = post.find('div', class_='post__text')\n",
    "    post_txt = post_txt.text.split()\n",
    "    post_txt = str(' '.join(post_txt))\n",
    "    post_list.append(post_txt)\n",
    "    for i in KEYWORDS:\n",
    "        if i in post_txt:\n",
    "            df_list.append(post_list)\n",
    "    \n",
    "df = pd.DataFrame(df_list, columns=['date', 'title', 'text'])\n",
    "df"
   ]
  },
  {
   "cell_type": "code",
   "execution_count": 75,
   "metadata": {},
   "outputs": [
    {
     "data": {
      "text/plain": [
       "<Response [200]>"
      ]
     },
     "execution_count": 75,
     "metadata": {},
     "output_type": "execute_result"
    }
   ],
   "source": [
    "import requests\n",
    "import json\n",
    "URL = 'https://identityprotection.avast.com/v1/web/query/site-breaches/unauthorized-data'\n",
    "EMAIL = ['leoleoleo@bk.ru', 'leonardcherepanov@gmail.com']\n",
    "params = {'emailAddresses': EMAIL}\n",
    "headers_ = {'Vaar-Header-App-Product': 'hackcheck-web-avast', 'Vaar-Version': '0'}\n",
    "response = requests.post(URL, data=json.dumps(params), headers=headers_)\n",
    "response"
   ]
  },
  {
   "cell_type": "code",
   "execution_count": 77,
   "metadata": {},
   "outputs": [
    {
     "data": {
      "text/html": [
       "<div>\n",
       "<style scoped>\n",
       "    .dataframe tbody tr th:only-of-type {\n",
       "        vertical-align: middle;\n",
       "    }\n",
       "\n",
       "    .dataframe tbody tr th {\n",
       "        vertical-align: top;\n",
       "    }\n",
       "\n",
       "    .dataframe thead th {\n",
       "        text-align: right;\n",
       "    }\n",
       "</style>\n",
       "<table border=\"1\" class=\"dataframe\">\n",
       "  <thead>\n",
       "    <tr style=\"text-align: right;\">\n",
       "      <th></th>\n",
       "      <th>mail</th>\n",
       "      <th>source</th>\n",
       "      <th>text</th>\n",
       "      <th>date</th>\n",
       "    </tr>\n",
       "  </thead>\n",
       "  <tbody>\n",
       "    <tr>\n",
       "      <th>0</th>\n",
       "      <td>leoleoleo@bk.ru</td>\n",
       "      <td>dailymotion.com</td>\n",
       "      <td>In October 2016, the video sharing website Dai...</td>\n",
       "      <td>2016</td>\n",
       "    </tr>\n",
       "    <tr>\n",
       "      <th>1</th>\n",
       "      <td>leoleoleo@bk.ru</td>\n",
       "      <td>dropbox.com</td>\n",
       "      <td>Cloud storage company Dropbox suffered a major...</td>\n",
       "      <td>2012</td>\n",
       "    </tr>\n",
       "    <tr>\n",
       "      <th>2</th>\n",
       "      <td>leoleoleo@bk.ru</td>\n",
       "      <td>nnm-club.me</td>\n",
       "      <td>In September 2013, Russian torrent tracker NNM...</td>\n",
       "      <td>2013</td>\n",
       "    </tr>\n",
       "    <tr>\n",
       "      <th>3</th>\n",
       "      <td>leoleoleo@bk.ru</td>\n",
       "      <td>vk.com</td>\n",
       "      <td>Popular Russian social networking platform VKo...</td>\n",
       "      <td>2012</td>\n",
       "    </tr>\n",
       "    <tr>\n",
       "      <th>4</th>\n",
       "      <td>leoleoleo@bk.ru</td>\n",
       "      <td>softimage.ru</td>\n",
       "      <td>In November 2020, a collection of over 23,000 ...</td>\n",
       "      <td>2020</td>\n",
       "    </tr>\n",
       "  </tbody>\n",
       "</table>\n",
       "</div>"
      ],
      "text/plain": [
       "              mail           source  \\\n",
       "0  leoleoleo@bk.ru  dailymotion.com   \n",
       "1  leoleoleo@bk.ru      dropbox.com   \n",
       "2  leoleoleo@bk.ru      nnm-club.me   \n",
       "3  leoleoleo@bk.ru           vk.com   \n",
       "4  leoleoleo@bk.ru     softimage.ru   \n",
       "\n",
       "                                                text  date  \n",
       "0  In October 2016, the video sharing website Dai...  2016  \n",
       "1  Cloud storage company Dropbox suffered a major...  2012  \n",
       "2  In September 2013, Russian torrent tracker NNM...  2013  \n",
       "3  Popular Russian social networking platform VKo...  2012  \n",
       "4  In November 2020, a collection of over 23,000 ...  2020  "
      ]
     },
     "execution_count": 77,
     "metadata": {},
     "output_type": "execute_result"
    }
   ],
   "source": [
    "import re\n",
    "import pandas as pd\n",
    "result = response.json()\n",
    "data_list = pd.DataFrame(columns=['mail','source','text','date'])\n",
    "\n",
    "for mail in result['summary']:\n",
    "    for case_id in result['summary'][mail]['breaches']:\n",
    "        text = result['breaches'][str(case_id)]['description']\n",
    "        source = result['breaches'][str(case_id)]['site']\n",
    "        date = re.findall(r'\\d{4}', text)[0]\n",
    "        data_list = pd.concat([data_list, pd.DataFrame({'mail': [mail],'source': [source],'text': [text],'date': [date]})])\n",
    "data_list.index = list(range(len(data_list)))\n",
    "data_list"
   ]
  },
  {
   "cell_type": "code",
   "execution_count": null,
   "metadata": {
    "collapsed": true
   },
   "outputs": [],
   "source": []
  }
 ],
 "metadata": {
  "kernelspec": {
   "display_name": "Python 3",
   "language": "python",
   "name": "python3"
  },
  "language_info": {
   "codemirror_mode": {
    "name": "ipython",
    "version": 3
   },
   "file_extension": ".py",
   "mimetype": "text/x-python",
   "name": "python",
   "nbconvert_exporter": "python",
   "pygments_lexer": "ipython3",
   "version": "3.8.5"
  }
 },
 "nbformat": 4,
 "nbformat_minor": 4
}
